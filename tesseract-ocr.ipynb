{
 "cells": [
  {
   "cell_type": "code",
   "execution_count": 1,
   "id": "8c9a3be2-56ff-44e2-a66f-8b3bb2cf7cf1",
   "metadata": {},
   "outputs": [
    {
     "name": "stdout",
     "output_type": "stream",
     "text": [
      "9.0.0\n"
     ]
    }
   ],
   "source": [
    "# !pip install opencv-python --upgrade\n",
    "# !pip install -r requirements.txt\n",
    "import pytesseract\n",
    "import cv2 #opencv-python\n",
    "from PIL import Image #pillow\n",
    "import warnings\n",
    "warnings.filterwarnings('ignore')\n",
    "print(Image.__version__)"
   ]
  },
  {
   "cell_type": "markdown",
   "id": "d64d9e13-f0f9-42c3-b880-22c53ad3b4a0",
   "metadata": {},
   "source": [
    "## Step 1: Load the Image to OCR"
   ]
  },
  {
   "cell_type": "code",
   "execution_count": 2,
   "id": "2cc55b09-ce3c-4d64-8815-ca486083ba4f",
   "metadata": {},
   "outputs": [
    {
     "name": "stderr",
     "output_type": "stream",
     "text": [
      "[ WARN:0@0.184] global /Users/runner/work/opencv-python/opencv-python/opencv/modules/imgcodecs/src/loadsave.cpp (239) findDecoder imread_('cv2-source-code/images/testing/fox_sample1.png'): can't open/read file: check file path/integrity\n"
     ]
    }
   ],
   "source": [
    "# Load example image and convert it to grey scale\n",
    "img_test_data = 'data/640605.jpg'\n",
    "image_to_ocr = cv2.imread(img_test_data)\n",
    "image_to_ocr_test = cv2.imread('cv2-source-code/images/testing/fox_sample1.png')"
   ]
  },
  {
   "cell_type": "markdown",
   "id": "ab73a3dc-3a09-4121-b65d-29bdf2f4cded",
   "metadata": {},
   "source": [
    "## Step 2: Pre-Processing of Image"
   ]
  },
  {
   "cell_type": "code",
   "execution_count": 3,
   "id": "78ed25c3-ba1a-4db5-89eb-57c97425b8fb",
   "metadata": {},
   "outputs": [],
   "source": [
    "# Pre-process: Convert to Grey scale\n",
    "preprocessed_img = cv2.cvtColor(image_to_ocr, cv2.COLOR_BGR2GRAY)\n",
    "\n",
    "# Pre-process: Do Binary and Otsu Thresholding\n",
    "preprocessed_img = cv2.threshold(preprocessed_img, 0, 255, cv2.THRESH_BINARY | cv2.THRESH_OTSU)[1]\n",
    "\n",
    "# Pre-process: Median Blur to remove noise in the image\n",
    "preprocessed_img = cv2.medianBlur(preprocessed_img, 3)\n"
   ]
  },
  {
   "cell_type": "markdown",
   "id": "e6c3881d-3762-41bb-9819-86c8e99d2f06",
   "metadata": {},
   "source": [
    "## Step 3: Save and Load Image as a PIL Image"
   ]
  },
  {
   "cell_type": "code",
   "execution_count": 4,
   "id": "be7e7f90-050e-486b-878c-85edb753da74",
   "metadata": {},
   "outputs": [],
   "source": [
    "# Save the Pre-processesed Image to convert to PIL Image to disk\n",
    "cv2.imwrite(\"staging/temp_img2.jpg\", preprocessed_img)\n",
    "\n",
    "# Load the image as a PIL/Pillow image\n",
    "preprocessed_pil_img = Image.open('staging/temp_img2.jpg')"
   ]
  },
  {
   "cell_type": "markdown",
   "id": "ed5cad96-f46b-4522-b4ee-c14708deed49",
   "metadata": {},
   "source": [
    "## Step 4: OCR of the processed Image"
   ]
  },
  {
   "cell_type": "code",
   "execution_count": 5,
   "id": "6e25c119-06c6-4564-b5d6-a9e2bd5a89b3",
   "metadata": {},
   "outputs": [
    {
     "name": "stdout",
     "output_type": "stream",
     "text": [
      "EO\n",
      "\n",
      "Lookinatias Saals hep\n",
      "\n",
      "90210\n",
      "\n",
      "Sains (Ci iG] Ave\n",
      "\n",
      "Alias\n",
      "\n",
      "Are Yeu Afraid of the Dark?\n",
      "Battlestar Galactica\n",
      "Battlestar Galactica - Classic\n",
      "\n",
      "Bionic Women\n",
      "\n",
      "Brotherhood\n",
      "Caprica e 8\n",
      "Carnivale\n",
      "\n",
      "Charmed\n",
      "\n",
      "Crash\n",
      "\n",
      "Cruse\n",
      "\n",
      "Oark Blue\n",
      "\n",
      "Day Brook Ee ne Coste EEE a\n",
      "\n",
      "Greet\n",
      "\n",
      "Orad Uke Me\n",
      "Oirty Sexy Money .\n",
      "Oolthense\n",
      "Ore\n",
      "\n",
      "+ Castetck\n",
      "\n",
      "+ father and Son ead\n",
      "+ tively ae J\n",
      "\n",
      "Stas Wars het Tr onate\n",
      "\n",
      "Janbt erwas\n",
      "\n",
      "* Gacgoyles\n",
      "\n",
      "\n"
     ]
    }
   ],
   "source": [
    "# Process OCR using Tesseract, read the temp image from disk as pil image\n",
    "text_extracted = pytesseract.image_to_string(Image.open('staging/temp_img2.jpg'))\n",
    "\n",
    "# Print extracted text\n",
    "print(text_extracted)\n",
    "\n",
    "# Display original image\n",
    "cv2.imshow('video', image_to_ocr)"
   ]
  },
  {
   "cell_type": "markdown",
   "id": "8fed25ca-4db9-4921-92e3-9a0325afef49",
   "metadata": {},
   "source": [
    "<img src=\"data/640605.jpg\" width=\"800\">"
   ]
  },
  {
   "cell_type": "code",
   "execution_count": null,
   "id": "49d64d72-f2ac-4be6-ad2b-cd13e703fab7",
   "metadata": {},
   "outputs": [],
   "source": []
  }
 ],
 "metadata": {
  "interpreter": {
   "hash": "aee8b7b246df8f9039afb4144a1f6fd8d2ca17a180786b69acc140d282b71a49"
  },
  "kernelspec": {
   "display_name": "Python 3.10.1 64-bit",
   "language": "python",
   "name": "python3"
  },
  "language_info": {
   "codemirror_mode": {
    "name": "ipython",
    "version": 3
   },
   "file_extension": ".py",
   "mimetype": "text/x-python",
   "name": "python",
   "nbconvert_exporter": "python",
   "pygments_lexer": "ipython3",
   "version": "3.10.1"
  }
 },
 "nbformat": 4,
 "nbformat_minor": 5
}
